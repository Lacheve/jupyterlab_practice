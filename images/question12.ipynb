{
 "cells": [
  {
   "cell_type": "markdown",
   "id": "616a0bf6-e671-4644-ab68-62b1343f9f99",
   "metadata": {},
   "source": [
    "We are currently working in the following directory:"
   ]
  },
  {
   "cell_type": "code",
   "execution_count": 4,
   "id": "89a83ac5-9032-42d1-b497-fede155000fc",
   "metadata": {},
   "outputs": [
    {
     "name": "stdout",
     "output_type": "stream",
     "text": [
      "/c/Users/lucia/toolbox_projects/jupyterlab_practice/images\n"
     ]
    }
   ],
   "source": [
    "!pwd"
   ]
  },
  {
   "cell_type": "markdown",
   "id": "2638253f-e525-44c5-b8c8-d6c84f70e77e",
   "metadata": {},
   "source": [
    "To time how long it takes to run a Python cell, we could use the timeit command inside a cell as is shown below: Followed by the proper use of the timeit command to time the following loop:\n",
    "```\n",
    "for i in range(1_000_000):\n",
    "    i**2\n",
    "```"
   ]
  },
  {
   "cell_type": "code",
   "execution_count": 5,
   "id": "eafed91a-19c0-44da-8d45-f24a512ac42b",
   "metadata": {},
   "outputs": [
    {
     "name": "stderr",
     "output_type": "stream",
     "text": [
      "[NbConvertApp] WARNING | Config option `kernel_spec_manager_class` not recognized by `NbConvertApp`.\n",
      "[NbConvertApp] Converting notebook question12.ipynb to html\n",
      "[NbConvertApp] Writing 269735 bytes to question12.html\n"
     ]
    }
   ],
   "source": [
    "!jupyter nbconvert --to html --no-input question12.ipynb"
   ]
  },
  {
   "cell_type": "code",
   "execution_count": null,
   "id": "12c44e83-4abc-44de-b75c-8d50c363e0dc",
   "metadata": {},
   "outputs": [],
   "source": []
  }
 ],
 "metadata": {
  "kernelspec": {
   "display_name": "Python 3 (ipykernel)",
   "language": "python",
   "name": "python3"
  },
  "language_info": {
   "codemirror_mode": {
    "name": "ipython",
    "version": 3
   },
   "file_extension": ".py",
   "mimetype": "text/x-python",
   "name": "python",
   "nbconvert_exporter": "python",
   "pygments_lexer": "ipython3",
   "version": "3.11.5"
  }
 },
 "nbformat": 4,
 "nbformat_minor": 5
}
